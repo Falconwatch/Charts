{
 "cells": [
  {
   "cell_type": "code",
   "execution_count": 1,
   "metadata": {},
   "outputs": [],
   "source": [
    "import sqlite3\n",
    "import pandas as pd\n",
    "import numpy as np"
   ]
  },
  {
   "cell_type": "code",
   "execution_count": 2,
   "metadata": {},
   "outputs": [],
   "source": [
    "database_path = '../chartsite/db.sqlite3'\n",
    "conn = sqlite3.connect(database_path)"
   ]
  },
  {
   "cell_type": "code",
   "execution_count": 3,
   "metadata": {},
   "outputs": [
    {
     "data": {
      "text/plain": [
       "[(0, '2020-03-01', 'РК', 51, 11501, 166, 0, '2020-03-01'),\n",
       " (1, '2020-03-01', 'ВКЛ', 132, 5568, 123, 0, '2020-03-01'),\n",
       " (2, '2020-03-01', 'НКЛ', 168, 6874, 10, 0, '2020-03-01'),\n",
       " (3, '2020-03-01', 'ОВ', 191, 3209, 26, 0, '2020-03-01'),\n",
       " (4, '2020-03-01', 'Г', 85, 1584, 145, 0, '2020-03-01')]"
      ]
     },
     "execution_count": 3,
     "metadata": {},
     "output_type": "execute_result"
    }
   ],
   "source": [
    "cursor = conn.execute(\"select * from dashboard_report_counts\")\n",
    "report_counts = cursor.fetchall()\n",
    "report_counts[:5]"
   ]
  },
  {
   "cell_type": "code",
   "execution_count": 4,
   "metadata": {},
   "outputs": [
    {
     "data": {
      "text/html": [
       "<div>\n",
       "<style scoped>\n",
       "    .dataframe tbody tr th:only-of-type {\n",
       "        vertical-align: middle;\n",
       "    }\n",
       "\n",
       "    .dataframe tbody tr th {\n",
       "        vertical-align: top;\n",
       "    }\n",
       "\n",
       "    .dataframe thead th {\n",
       "        text-align: right;\n",
       "    }\n",
       "</style>\n",
       "<table border=\"1\" class=\"dataframe\">\n",
       "  <thead>\n",
       "    <tr style=\"text-align: right;\">\n",
       "      <th></th>\n",
       "      <th>id</th>\n",
       "      <th>load_date</th>\n",
       "      <th>product_type</th>\n",
       "      <th>in_default</th>\n",
       "      <th>healthy</th>\n",
       "      <th>will_default</th>\n",
       "      <th>deleted</th>\n",
       "      <th>report_date</th>\n",
       "    </tr>\n",
       "  </thead>\n",
       "  <tbody>\n",
       "    <tr>\n",
       "      <th>0</th>\n",
       "      <td>0</td>\n",
       "      <td>2020-03-01</td>\n",
       "      <td>РК</td>\n",
       "      <td>51</td>\n",
       "      <td>11501</td>\n",
       "      <td>166</td>\n",
       "      <td>0</td>\n",
       "      <td>2020-03-01</td>\n",
       "    </tr>\n",
       "    <tr>\n",
       "      <th>1</th>\n",
       "      <td>1</td>\n",
       "      <td>2020-03-01</td>\n",
       "      <td>ВКЛ</td>\n",
       "      <td>132</td>\n",
       "      <td>5568</td>\n",
       "      <td>123</td>\n",
       "      <td>0</td>\n",
       "      <td>2020-03-01</td>\n",
       "    </tr>\n",
       "    <tr>\n",
       "      <th>2</th>\n",
       "      <td>2</td>\n",
       "      <td>2020-03-01</td>\n",
       "      <td>НКЛ</td>\n",
       "      <td>168</td>\n",
       "      <td>6874</td>\n",
       "      <td>10</td>\n",
       "      <td>0</td>\n",
       "      <td>2020-03-01</td>\n",
       "    </tr>\n",
       "    <tr>\n",
       "      <th>3</th>\n",
       "      <td>3</td>\n",
       "      <td>2020-03-01</td>\n",
       "      <td>ОВ</td>\n",
       "      <td>191</td>\n",
       "      <td>3209</td>\n",
       "      <td>26</td>\n",
       "      <td>0</td>\n",
       "      <td>2020-03-01</td>\n",
       "    </tr>\n",
       "    <tr>\n",
       "      <th>4</th>\n",
       "      <td>4</td>\n",
       "      <td>2020-03-01</td>\n",
       "      <td>Г</td>\n",
       "      <td>85</td>\n",
       "      <td>1584</td>\n",
       "      <td>145</td>\n",
       "      <td>0</td>\n",
       "      <td>2020-03-01</td>\n",
       "    </tr>\n",
       "  </tbody>\n",
       "</table>\n",
       "</div>"
      ],
      "text/plain": [
       "   id   load_date product_type  in_default  healthy  will_default  deleted  \\\n",
       "0   0  2020-03-01           РК          51    11501           166        0   \n",
       "1   1  2020-03-01          ВКЛ         132     5568           123        0   \n",
       "2   2  2020-03-01          НКЛ         168     6874            10        0   \n",
       "3   3  2020-03-01           ОВ         191     3209            26        0   \n",
       "4   4  2020-03-01            Г          85     1584           145        0   \n",
       "\n",
       "  report_date  \n",
       "0  2020-03-01  \n",
       "1  2020-03-01  \n",
       "2  2020-03-01  \n",
       "3  2020-03-01  \n",
       "4  2020-03-01  "
      ]
     },
     "execution_count": 4,
     "metadata": {},
     "output_type": "execute_result"
    }
   ],
   "source": [
    "pd_data = pd.DataFrame(report_counts, columns = ['id', 'load_date', 'product_type', \n",
    "                                       'in_default', 'healthy', 'will_default', 'deleted', 'report_date'])\n",
    "pd_data.head()"
   ]
  },
  {
   "cell_type": "code",
   "execution_count": 5,
   "metadata": {},
   "outputs": [
    {
     "data": {
      "text/html": [
       "<div>\n",
       "<style scoped>\n",
       "    .dataframe tbody tr th:only-of-type {\n",
       "        vertical-align: middle;\n",
       "    }\n",
       "\n",
       "    .dataframe tbody tr th {\n",
       "        vertical-align: top;\n",
       "    }\n",
       "\n",
       "    .dataframe thead th {\n",
       "        text-align: right;\n",
       "    }\n",
       "</style>\n",
       "<table border=\"1\" class=\"dataframe\">\n",
       "  <thead>\n",
       "    <tr style=\"text-align: right;\">\n",
       "      <th>product_type</th>\n",
       "      <th>ВКЛ</th>\n",
       "      <th>Г</th>\n",
       "      <th>НКЛ</th>\n",
       "      <th>ОВ</th>\n",
       "      <th>РК</th>\n",
       "    </tr>\n",
       "    <tr>\n",
       "      <th>report_date</th>\n",
       "      <th></th>\n",
       "      <th></th>\n",
       "      <th></th>\n",
       "      <th></th>\n",
       "      <th></th>\n",
       "    </tr>\n",
       "  </thead>\n",
       "  <tbody>\n",
       "    <tr>\n",
       "      <th>2016-02-01</th>\n",
       "      <td>10738</td>\n",
       "      <td>13362</td>\n",
       "      <td>14185</td>\n",
       "      <td>14723</td>\n",
       "      <td>5875</td>\n",
       "    </tr>\n",
       "    <tr>\n",
       "      <th>2016-03-01</th>\n",
       "      <td>3835</td>\n",
       "      <td>19537</td>\n",
       "      <td>7313</td>\n",
       "      <td>14877</td>\n",
       "      <td>14605</td>\n",
       "    </tr>\n",
       "    <tr>\n",
       "      <th>2016-04-01</th>\n",
       "      <td>10206</td>\n",
       "      <td>4804</td>\n",
       "      <td>14520</td>\n",
       "      <td>19345</td>\n",
       "      <td>16145</td>\n",
       "    </tr>\n",
       "    <tr>\n",
       "      <th>2016-05-01</th>\n",
       "      <td>13745</td>\n",
       "      <td>5185</td>\n",
       "      <td>17026</td>\n",
       "      <td>11582</td>\n",
       "      <td>1536</td>\n",
       "    </tr>\n",
       "    <tr>\n",
       "      <th>2016-06-01</th>\n",
       "      <td>10795</td>\n",
       "      <td>7542</td>\n",
       "      <td>11096</td>\n",
       "      <td>14073</td>\n",
       "      <td>14018</td>\n",
       "    </tr>\n",
       "  </tbody>\n",
       "</table>\n",
       "</div>"
      ],
      "text/plain": [
       "product_type    ВКЛ      Г    НКЛ     ОВ     РК\n",
       "report_date                                    \n",
       "2016-02-01    10738  13362  14185  14723   5875\n",
       "2016-03-01     3835  19537   7313  14877  14605\n",
       "2016-04-01    10206   4804  14520  19345  16145\n",
       "2016-05-01    13745   5185  17026  11582   1536\n",
       "2016-06-01    10795   7542  11096  14073  14018"
      ]
     },
     "execution_count": 5,
     "metadata": {},
     "output_type": "execute_result"
    }
   ],
   "source": [
    "grouped_healhty = pd_data.groupby(by=['report_date', 'product_type'])[['healthy']].sum()\n",
    "healhty_dynamics = grouped_healhty.unstack()\n",
    "healhty_dynamics.columns = healhty_dynamics.columns.droplevel()\n",
    "healhty_dynamics.head(5)"
   ]
  },
  {
   "cell_type": "code",
   "execution_count": null,
   "metadata": {},
   "outputs": [],
   "source": []
  },
  {
   "cell_type": "code",
   "execution_count": 56,
   "metadata": {},
   "outputs": [
    {
     "data": {
      "text/html": [
       "<div>\n",
       "<style scoped>\n",
       "    .dataframe tbody tr th:only-of-type {\n",
       "        vertical-align: middle;\n",
       "    }\n",
       "\n",
       "    .dataframe tbody tr th {\n",
       "        vertical-align: top;\n",
       "    }\n",
       "\n",
       "    .dataframe thead th {\n",
       "        text-align: right;\n",
       "    }\n",
       "</style>\n",
       "<table border=\"1\" class=\"dataframe\">\n",
       "  <thead>\n",
       "    <tr style=\"text-align: right;\">\n",
       "      <th></th>\n",
       "      <th></th>\n",
       "      <th>in_default</th>\n",
       "      <th>total</th>\n",
       "      <th>def_share</th>\n",
       "    </tr>\n",
       "    <tr>\n",
       "      <th>report_date</th>\n",
       "      <th>product_type</th>\n",
       "      <th></th>\n",
       "      <th></th>\n",
       "      <th></th>\n",
       "    </tr>\n",
       "  </thead>\n",
       "  <tbody>\n",
       "    <tr>\n",
       "      <th rowspan=\"5\" valign=\"top\">2016-02-01</th>\n",
       "      <th>ВКЛ</th>\n",
       "      <td>191</td>\n",
       "      <td>10929</td>\n",
       "      <td>0.017476</td>\n",
       "    </tr>\n",
       "    <tr>\n",
       "      <th>Г</th>\n",
       "      <td>136</td>\n",
       "      <td>13498</td>\n",
       "      <td>0.010076</td>\n",
       "    </tr>\n",
       "    <tr>\n",
       "      <th>НКЛ</th>\n",
       "      <td>44</td>\n",
       "      <td>14229</td>\n",
       "      <td>0.003092</td>\n",
       "    </tr>\n",
       "    <tr>\n",
       "      <th>ОВ</th>\n",
       "      <td>72</td>\n",
       "      <td>14795</td>\n",
       "      <td>0.004867</td>\n",
       "    </tr>\n",
       "    <tr>\n",
       "      <th>РК</th>\n",
       "      <td>64</td>\n",
       "      <td>5939</td>\n",
       "      <td>0.010776</td>\n",
       "    </tr>\n",
       "    <tr>\n",
       "      <th>2016-03-01</th>\n",
       "      <th>ВКЛ</th>\n",
       "      <td>84</td>\n",
       "      <td>3919</td>\n",
       "      <td>0.021434</td>\n",
       "    </tr>\n",
       "  </tbody>\n",
       "</table>\n",
       "</div>"
      ],
      "text/plain": [
       "                          in_default  total  def_share\n",
       "report_date product_type                              \n",
       "2016-02-01  ВКЛ                  191  10929   0.017476\n",
       "            Г                    136  13498   0.010076\n",
       "            НКЛ                   44  14229   0.003092\n",
       "            ОВ                    72  14795   0.004867\n",
       "            РК                    64   5939   0.010776\n",
       "2016-03-01  ВКЛ                   84   3919   0.021434"
      ]
     },
     "execution_count": 56,
     "metadata": {},
     "output_type": "execute_result"
    }
   ],
   "source": [
    "pd_data['total'] = pd_data['in_default']+pd_data['healthy']\n",
    "grouped_data = pd_data.groupby(by=['report_date', 'product_type'])[['in_default', 'total']].sum()\n",
    "grouped_data['def_share'] = grouped_data['in_default']/grouped_data['total']\n",
    "grouped_data.head(6)"
   ]
  },
  {
   "cell_type": "code",
   "execution_count": 54,
   "metadata": {},
   "outputs": [],
   "source": []
  },
  {
   "cell_type": "code",
   "execution_count": null,
   "metadata": {},
   "outputs": [],
   "source": []
  },
  {
   "cell_type": "code",
   "execution_count": 19,
   "metadata": {},
   "outputs": [],
   "source": [
    "from math import cos, pi, sin\n",
    "from bokeh.models import Arc, Circle, ColumnDataSource, Plot, Range1d, Ray, Text\n",
    "\n",
    "\n",
    "\n",
    "\n",
    "\n",
    "def data(value):\n",
    "    return dict(value=value, units=\"data\")\n",
    "\n",
    "def riskmeter(risk):\n",
    "    xdr = Range1d(start=-1.25, end=1.25)\n",
    "    ydr = Range1d(start=-1.25, end=1.25)\n",
    "    plot = Plot(x_range=xdr, y_range=ydr, plot_width=600, plot_height=300)\n",
    "    radius = 100\n",
    "\n",
    "    ##Зоны монометра\n",
    "    # Зелёная зона\n",
    "    glyph = Arc(x=0, y=0, radius=radius, start_angle=pi, end_angle=pi * 2 / 3,\n",
    "                direction=\"clock\", line_color='green',line_width=40)\n",
    "    plot.add_glyph(glyph)\n",
    "    # Жёлтая зона\n",
    "    glyph = Arc(x=0, y=0, radius=radius, start_angle=pi * 2 / 3, end_angle=pi * 1 / 3, direction=\"clock\",\n",
    "                line_color='yellow', line_width=40)\n",
    "    plot.add_glyph(glyph)\n",
    "    # Красная зона\n",
    "    glyph = Arc(x=0, y=0, radius=radius, start_angle=pi * 1 / 3, end_angle=0, direction=\"clock\", line_color='red',\n",
    "                line_width=40)\n",
    "    plot.add_glyph(glyph)\n",
    "\n",
    "    angle = (1-risk)*pi\n",
    "    plot.add_glyph(Ray(x=0, y=0, length=data(0.75), angle=angle, line_color=\"black\", line_width=3))\n",
    "    return plot\n",
    "\n"
   ]
  },
  {
   "cell_type": "code",
   "execution_count": 45,
   "metadata": {},
   "outputs": [],
   "source": [
    "import numpy as np\n",
    "\n",
    "from bokeh.models import ColumnDataSource, Plot, LinearAxis, Grid\n",
    "from bokeh.models.glyphs import Arc\n",
    "from bokeh.io import curdoc, show\n",
    "\n",
    "N = 9\n",
    "x = np.linspace(-2, 2, N)\n",
    "y = x**2\n",
    "r = x/15.0+0.3\n",
    "\n",
    "source = ColumnDataSource(dict(x=x, y=y, r=r))\n",
    "\n",
    "plot = Plot(\n",
    "    title=None, plot_width=300, plot_height=300,\n",
    "    min_border=0, toolbar_location=None)\n",
    "\n",
    "glyph = Arc(x=0, y=0, radius=0.5, start_angle=0.6, end_angle=4.1, line_color=\"#beaed4\", line_width=3)\n",
    "plot.add_glyph(source, glyph)\n",
    "\n",
    "xaxis = LinearAxis()\n",
    "plot.add_layout(xaxis, 'below')\n",
    "\n",
    "yaxis = LinearAxis()\n",
    "plot.add_layout(yaxis, 'left')\n",
    "\n",
    "plot.add_layout(Grid(dimension=0, ticker=xaxis.ticker))\n",
    "plot.add_layout(Grid(dimension=1, ticker=yaxis.ticker))\n",
    "\n",
    "curdoc().add_root(plot)\n",
    "\n",
    "show(plot)"
   ]
  },
  {
   "cell_type": "code",
   "execution_count": 41,
   "metadata": {},
   "outputs": [],
   "source": [
    "show(plot)"
   ]
  },
  {
   "cell_type": "code",
   "execution_count": 21,
   "metadata": {},
   "outputs": [],
   "source": [
    "t = riskmeter(0.2)"
   ]
  },
  {
   "cell_type": "code",
   "execution_count": 22,
   "metadata": {},
   "outputs": [],
   "source": [
    "show(t)"
   ]
  },
  {
   "cell_type": "code",
   "execution_count": 6,
   "metadata": {},
   "outputs": [],
   "source": [
    "from bokeh.plotting import figure, show"
   ]
  },
  {
   "cell_type": "code",
   "execution_count": 12,
   "metadata": {},
   "outputs": [],
   "source": [
    "plot = figure()\n",
    "colors = ['red', 'green', 'blue', 'yellow','black']"
   ]
  },
  {
   "cell_type": "code",
   "execution_count": 16,
   "metadata": {},
   "outputs": [],
   "source": [
    "plot = figure(plot_width=800, plot_height=300, title=\"Healthy\",)\n",
    "for i in range(len(healhty_dynamics.columns)):\n",
    "        ctype=healhty_dynamics.columns[i]\n",
    "        col = colors[i]\n",
    "        _y = healhty_dynamics[ctype].values\n",
    "        _x = [v for v in healhty_dynamics.index.values]\n",
    "        plot.line(y = _y, x=healhty_dynamics.index.values, legend_label=ctype, color=col)\n",
    "show(plot)"
   ]
  },
  {
   "cell_type": "code",
   "execution_count": 14,
   "metadata": {},
   "outputs": [
    {
     "data": {
      "text/plain": [
       "array(['2016-02-01', '2016-03-01', '2016-04-01', '2016-05-01',\n",
       "       '2016-06-01', '2016-07-01', '2016-08-01', '2016-09-01',\n",
       "       '2016-10-01', '2016-11-01', '2016-12-01', '2017-01-01',\n",
       "       '2017-02-01', '2017-03-01', '2017-04-01', '2017-05-01',\n",
       "       '2017-06-01', '2017-07-01', '2017-08-01', '2017-09-01',\n",
       "       '2017-10-01', '2017-11-01', '2017-12-01', '2018-01-01',\n",
       "       '2018-02-01', '2018-03-01', '2018-04-01', '2018-05-01',\n",
       "       '2018-06-01', '2018-07-01', '2018-08-01', '2018-09-01',\n",
       "       '2018-10-01', '2018-11-01', '2018-12-01', '2019-01-01',\n",
       "       '2019-02-01', '2019-03-01', '2019-04-01', '2019-05-01',\n",
       "       '2019-06-01', '2019-07-01', '2019-08-01', '2019-09-01',\n",
       "       '2019-10-01', '2019-11-01', '2019-12-01', '2020-01-01',\n",
       "       '2020-02-01', '2020-03-01'], dtype=object)"
      ]
     },
     "execution_count": 14,
     "metadata": {},
     "output_type": "execute_result"
    }
   ],
   "source": [
    "healhty_dynamics.index.values"
   ]
  },
  {
   "cell_type": "code",
   "execution_count": null,
   "metadata": {},
   "outputs": [],
   "source": [
    "p.multi_line()"
   ]
  }
 ],
 "metadata": {
  "kernelspec": {
   "display_name": "Python 3",
   "language": "python",
   "name": "python3"
  },
  "language_info": {
   "codemirror_mode": {
    "name": "ipython",
    "version": 3
   },
   "file_extension": ".py",
   "mimetype": "text/x-python",
   "name": "python",
   "nbconvert_exporter": "python",
   "pygments_lexer": "ipython3",
   "version": "3.7.4"
  }
 },
 "nbformat": 4,
 "nbformat_minor": 2
}
